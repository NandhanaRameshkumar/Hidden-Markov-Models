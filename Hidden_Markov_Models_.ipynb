{
  "cells": [
    {
      "cell_type": "markdown",
      "metadata": {
        "id": "view-in-github",
        "colab_type": "text"
      },
      "source": [
        "<a href=\"https://colab.research.google.com/github/NandhanaRameshkumar/Hidden-Markov-Models/blob/main/Hidden_Markov_Models_.ipynb\" target=\"_parent\"><img src=\"https://colab.research.google.com/assets/colab-badge.svg\" alt=\"Open In Colab\"/></a>"
      ]
    },
    {
      "cell_type": "code",
      "execution_count": null,
      "id": "7c609774",
      "metadata": {
        "id": "7c609774",
        "outputId": "567070fc-1362-4201-f4f2-51e3a2833cc9"
      },
      "outputs": [
        {
          "name": "stdout",
          "output_type": "stream",
          "text": [
            "Collecting hmmlearn\n",
            "  Using cached hmmlearn-0.3.2-cp39-cp39-win_amd64.whl (124 kB)\n",
            "Requirement already satisfied: scipy>=0.19 in c:\\users\\lenovo\\anaconda3\\lib\\site-packages (from hmmlearn) (1.7.3)\n",
            "Requirement already satisfied: numpy>=1.10 in c:\\users\\lenovo\\anaconda3\\lib\\site-packages (from hmmlearn) (1.22.4)\n",
            "Requirement already satisfied: scikit-learn!=0.22.0,>=0.16 in c:\\users\\lenovo\\anaconda3\\lib\\site-packages (from hmmlearn) (1.0.2)\n",
            "Requirement already satisfied: joblib>=0.11 in c:\\users\\lenovo\\anaconda3\\lib\\site-packages (from scikit-learn!=0.22.0,>=0.16->hmmlearn) (1.1.0)\n",
            "Requirement already satisfied: threadpoolctl>=2.0.0 in c:\\users\\lenovo\\anaconda3\\lib\\site-packages (from scikit-learn!=0.22.0,>=0.16->hmmlearn) (2.2.0)\n",
            "Installing collected packages: hmmlearn\n",
            "Successfully installed hmmlearn-0.3.2\n",
            "Note: you may need to restart the kernel to use updated packages.\n"
          ]
        }
      ],
      "source": [
        "pip install hmmlearn"
      ]
    },
    {
      "cell_type": "code",
      "execution_count": null,
      "id": "cce5a3a3",
      "metadata": {
        "id": "cce5a3a3"
      },
      "outputs": [],
      "source": [
        "import numpy as np\n",
        "from hmmlearn import hmm"
      ]
    },
    {
      "cell_type": "code",
      "execution_count": null,
      "id": "b7c8986a",
      "metadata": {
        "id": "b7c8986a",
        "outputId": "5d961e7d-ce57-4927-c2b8-c306f5e66a95"
      },
      "outputs": [
        {
          "name": "stderr",
          "output_type": "stream",
          "text": [
            "Fitting a model with 7 free scalar parameters with only 4 data points will result in a degenerate solution.\n"
          ]
        },
        {
          "data": {
            "text/plain": [
              "GaussianHMM(n_components=2)"
            ]
          },
          "execution_count": 5,
          "metadata": {},
          "output_type": "execute_result"
        }
      ],
      "source": [
        "# Define the number of hidden states\n",
        "n_components = 2\n",
        "\n",
        "# Create an instance of GaussianHMM\n",
        "model = hmm.GaussianHMM(n_components=n_components)\n",
        "\n",
        "# Fit the model to your data\n",
        "X = np.array([[1.0], [2.0], [-1.0], [0.5]])\n",
        "model.fit(X)\n"
      ]
    },
    {
      "cell_type": "code",
      "execution_count": null,
      "id": "77aec14a",
      "metadata": {
        "id": "77aec14a"
      },
      "outputs": [],
      "source": [
        "# Predict the hidden states\n",
        "hidden_states = model.predict(X)\n",
        "\n",
        "# Generate samples from the model\n",
        "generated_samples, _ = model.sample(5)\n"
      ]
    },
    {
      "cell_type": "code",
      "execution_count": null,
      "id": "2ac6f7dd",
      "metadata": {
        "id": "2ac6f7dd",
        "outputId": "8038e628-d289-4a3a-f46f-73a668ec5368"
      },
      "outputs": [
        {
          "data": {
            "image/png": "[encoded data removed]",
            "text/plain": [
              "<Figure size 720x432 with 1 Axes>"
            ]
          },
          "metadata": {
            "needs_background": "light"
          },
          "output_type": "display_data"
        }
      ],
      "source": [
        "import matplotlib.pyplot as plt\n",
        "plt.figure(figsize=(10, 6))\n",
        "plt.plot(X, '-o', label='Data')\n",
        "plt.scatter(np.arange(len(X)), X, c=hidden_states, cmap='rainbow', label='Hidden States')\n",
        "plt.xlabel('Time Step')\n",
        "plt.ylabel('Observation')\n",
        "plt.title('Hidden Markov Model')\n",
        "plt.legend()\n",
        "plt.show()"
      ]
    }
  ],
  "metadata": {
    "kernelspec": {
      "display_name": "Python 3 (ipykernel)",
      "language": "python",
      "name": "python3"
    },
    "language_info": {
      "codemirror_mode": {
        "name": "ipython",
        "version": 3
      },
      "file_extension": ".py",
      "mimetype": "text/x-python",
      "name": "python",
      "nbconvert_exporter": "python",
      "pygments_lexer": "ipython3",
      "version": "3.9.12"
    },
    "colab": {
      "provenance": [],
      "include_colab_link": true
    }
  },
  "nbformat": 4,
  "nbformat_minor": 5
}